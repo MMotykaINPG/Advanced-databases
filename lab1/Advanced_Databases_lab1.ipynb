{
 "cells": [
  {
   "cell_type": "code",
   "execution_count": 32,
   "metadata": {},
   "outputs": [
    {
     "data": {
      "text/plain": [
       "3280.7316257200923"
      ]
     },
     "execution_count": 32,
     "metadata": {},
     "output_type": "execute_result"
    }
   ],
   "source": [
    "import math\n",
    "k=1240*math.sqrt(7)\n",
    "k"
   ]
  },
  {
   "cell_type": "code",
   "execution_count": 12,
   "metadata": {},
   "outputs": [
    {
     "data": {
      "text/plain": [
       "4467"
      ]
     },
     "execution_count": 12,
     "metadata": {},
     "output_type": "execute_result"
    }
   ],
   "source": [
    "m=4467\n",
    "m"
   ]
  },
  {
   "cell_type": "code",
   "execution_count": 13,
   "metadata": {},
   "outputs": [
    {
     "data": {
      "text/plain": [
       "(2+1j)"
      ]
     },
     "execution_count": 13,
     "metadata": {},
     "output_type": "execute_result"
    }
   ],
   "source": [
    "l = complex(2,1)\n",
    "l"
   ]
  },
  {
   "cell_type": "code",
   "execution_count": 14,
   "metadata": {},
   "outputs": [
    {
     "data": {
      "text/plain": [
       "7747.731625720093"
      ]
     },
     "execution_count": 14,
     "metadata": {},
     "output_type": "execute_result"
    }
   ],
   "source": [
    "d = k+m\n",
    "d"
   ]
  },
  {
   "cell_type": "code",
   "execution_count": 16,
   "metadata": {},
   "outputs": [
    {
     "data": {
      "text/plain": [
       "(7749.731625720093+1j)"
      ]
     },
     "execution_count": 16,
     "metadata": {},
     "output_type": "execute_result"
    }
   ],
   "source": [
    "c = d+l\n",
    "c"
   ]
  },
  {
   "cell_type": "code",
   "execution_count": 17,
   "metadata": {},
   "outputs": [
    {
     "name": "stdout",
     "output_type": "stream",
     "text": [
      "7747.731625720093\n"
     ]
    }
   ],
   "source": [
    "print(d)"
   ]
  },
  {
   "cell_type": "code",
   "execution_count": 18,
   "metadata": {},
   "outputs": [
    {
     "name": "stdout",
     "output_type": "stream",
     "text": [
      "7747.732\n"
     ]
    }
   ],
   "source": [
    "print(\"%.3f\" % d)"
   ]
  },
  {
   "cell_type": "code",
   "execution_count": 21,
   "metadata": {},
   "outputs": [
    {
     "name": "stdout",
     "output_type": "stream",
     "text": [
      "7747.73162572009277937468\n"
     ]
    }
   ],
   "source": [
    "print(\"%.20f\" % d)"
   ]
  },
  {
   "cell_type": "code",
   "execution_count": 29,
   "metadata": {},
   "outputs": [
    {
     "data": {
      "text/plain": [
       "5340.707511102649"
      ]
     },
     "execution_count": 29,
     "metadata": {},
     "output_type": "execute_result"
    }
   ],
   "source": [
    "S = 2*math.pi*17*33+2*math.pi*17*17\n",
    "S"
   ]
  },
  {
   "cell_type": "code",
   "execution_count": 26,
   "metadata": {},
   "outputs": [
    {
     "data": {
      "text/plain": [
       "3.141592653589793"
      ]
     },
     "execution_count": 26,
     "metadata": {},
     "output_type": "execute_result"
    }
   ],
   "source": [
    "math.pi"
   ]
  },
  {
   "cell_type": "code",
   "execution_count": 30,
   "metadata": {},
   "outputs": [
    {
     "data": {
      "text/plain": [
       "'\\nMultiline comments\\n'"
      ]
     },
     "execution_count": 30,
     "metadata": {},
     "output_type": "execute_result"
    }
   ],
   "source": [
    "\n",
    "\"\"\"\n",
    "Multiline comments\n",
    "\"\"\""
   ]
  },
  {
   "cell_type": "code",
   "execution_count": 34,
   "metadata": {},
   "outputs": [
    {
     "name": "stdout",
     "output_type": "stream",
     "text": [
      "77.51739587275736\n"
     ]
    }
   ],
   "source": [
    "x1 = 5\n",
    "t = 1\n",
    "r = 2\n",
    "B = ((x1+r)/(r*math.sin(2*x1)+3.3456))*math.pow(x1,t*r)\n",
    "print(B)"
   ]
  },
  {
   "cell_type": "code",
   "execution_count": 40,
   "metadata": {},
   "outputs": [
    {
     "name": "stdout",
     "output_type": "stream",
     "text": [
      "[[ 1.41421356  1.         -1.41421356]\n",
      " [ 0.          1.          1.        ]\n",
      " [-1.41421356  1.41421356  1.        ]]\n",
      "[[ 0.10355339  0.75       -0.60355339]\n",
      " [ 0.35355339  0.14644661  0.35355339]\n",
      " [-0.35355339  0.85355339 -0.35355339]]\n",
      "-4.0\n",
      "[[ 1.41421356  0.         -1.41421356]\n",
      " [ 1.          1.          1.41421356]\n",
      " [-1.41421356  1.          1.        ]]\n"
     ]
    }
   ],
   "source": [
    "import numpy as np\n",
    "a = math.sqrt(2)\n",
    "M = np.array([[a,1,-a],[0,1,1],[-a,a,1]])\n",
    "print(M)\n",
    "Minv = np.linalg.inv(M)\n",
    "print(Minv)\n",
    "Mdet = np.linalg.det(M)\n",
    "print(Mdet)\n",
    "Mt = M.T\n",
    "print(Mt)"
   ]
  },
  {
   "cell_type": "code",
   "execution_count": 44,
   "metadata": {},
   "outputs": [
    {
     "name": "stdout",
     "output_type": "stream",
     "text": [
      "1.4142135623730951\n",
      "1.0\n",
      "1.4142135623730951\n",
      "[-1.41421356  1.          1.        ]\n",
      "[0. 1. 1.]\n"
     ]
    }
   ],
   "source": [
    "print(M[0,0])\n",
    "print(M[2,2])\n",
    "print(M[2,1])\n",
    "w1 = M[:,2]\n",
    "print(w1)\n",
    "w2 = M[1,:]\n",
    "print(w2)"
   ]
  },
  {
   "cell_type": "code",
   "execution_count": 47,
   "metadata": {},
   "outputs": [
    {
     "name": "stdout",
     "output_type": "stream",
     "text": [
      "[ 5.  3.  2. -2. -1.]\n"
     ]
    }
   ],
   "source": [
    "coeff=[1, -7, 3, 43, -28, -60]\n",
    "print(np.roots(coeff))"
   ]
  },
  {
   "cell_type": "code",
   "execution_count": 53,
   "metadata": {},
   "outputs": [
    {
     "name": "stdout",
     "output_type": "stream",
     "text": [
      "[ 0.   1.5  3.   4.5  6.   7.5  9.  10.5 12.  13.5 15.  16.5 18.  19.5]\n",
      "[ 0.          3.33333333  6.66666667 10.         13.33333333 16.66666667\n",
      " 20.        ]\n"
     ]
    }
   ],
   "source": [
    "arr_array = np.arange(0,20,1.5)\n",
    "print(arr_array)\n",
    "lin_array = np.linspace(0,20,7)\n",
    "print(lin_array)\n",
    "#arange tworzy tablicę o równych odległościach między kolejnymi próbkami,\n",
    "#która określona jest argumentem\n",
    "#linspace tworzy określoną liczę próbek w zadanym przedziale, z równymi\n",
    "#odstępami, które obliczone są na podstawie początku, konca i ilosci próbek"
   ]
  },
  {
   "cell_type": "code",
   "execution_count": 56,
   "metadata": {},
   "outputs": [],
   "source": [
    "def fun1(x):\n",
    "    return x*x*x-3*x"
   ]
  },
  {
   "cell_type": "code",
   "execution_count": 64,
   "metadata": {},
   "outputs": [
    {
     "data": {
      "image/png": "[encoded data removed]",
      "text/plain": [
       "<Figure size 432x288 with 1 Axes>"
      ]
     },
     "metadata": {
      "needs_background": "light"
     },
     "output_type": "display_data"
    }
   ],
   "source": [
    "import matplotlib.pyplot as plt\n",
    "x = np.linspace(-1,1)\n",
    "y = fun1(x)   \n",
    "plt.plot(x,y)\n",
    "plt.title('Wykres <-1,1>')\n",
    "plt.xlabel('x')\n",
    "plt.ylabel('y')\n",
    "plt.legend('x')\n",
    "plt.show()"
   ]
  },
  {
   "cell_type": "code",
   "execution_count": 63,
   "metadata": {},
   "outputs": [
    {
     "data": {
      "image/png": "[encoded data removed]",
      "text/plain": [
       "<Figure size 432x288 with 1 Axes>"
      ]
     },
     "metadata": {
      "needs_background": "light"
     },
     "output_type": "display_data"
    }
   ],
   "source": [
    "x = np.linspace(-5,5)\n",
    "y = fun1(x)   \n",
    "plt.plot(x,y)\n",
    "plt.title('Wykres <-5,5>')\n",
    "plt.xlabel('x')\n",
    "plt.ylabel('y')\n",
    "plt.legend('x')\n",
    "plt.show()"
   ]
  },
  {
   "cell_type": "code",
   "execution_count": 65,
   "metadata": {},
   "outputs": [
    {
     "data": {
      "image/png": "[encoded data removed]",
      "text/plain": [
       "<Figure size 432x288 with 1 Axes>"
      ]
     },
     "metadata": {
      "needs_background": "light"
     },
     "output_type": "display_data"
    }
   ],
   "source": [
    "x = np.linspace(0,5)\n",
    "y = fun1(x)   \n",
    "plt.plot(x,y)\n",
    "plt.title('Wykres <0,5>')\n",
    "plt.xlabel('x')\n",
    "plt.ylabel('y')\n",
    "plt.legend('x')\n",
    "plt.show()"
   ]
  },
  {
   "cell_type": "code",
   "execution_count": 81,
   "metadata": {},
   "outputs": [
    {
     "name": "stdout",
     "output_type": "stream",
     "text": [
      "347.2222222222223\n",
      "0.0829881027777778\n"
     ]
    },
    {
     "data": {
      "image/png": "[encoded data removed]",
      "text/plain": [
       "<Figure size 432x288 with 1 Axes>"
      ]
     },
     "metadata": {
      "needs_background": "light"
     },
     "output_type": "display_data"
    }
   ],
   "source": [
    "m = 2.5\n",
    "v = 60/36*10\n",
    "\n",
    "Q_J = m*v*v/2\n",
    "print(Q_J)\n",
    "\n",
    "Q_kcal = Q_J*0.000239005736\n",
    "print(Q_kcal)\n",
    "\n",
    "def fun2(v):\n",
    "    return m*v*v/2\n",
    "\n",
    "x_lin = np.linspace(200,0)\n",
    "y_lin = fun2(x_lin)\n",
    "\n",
    "fig, ax = plt.subplots()\n",
    "ax.plot(x_lin,y_lin)\n",
    "\n",
    "plt.show()\n",
    "\n"
   ]
  },
  {
   "cell_type": "code",
   "execution_count": 80,
   "metadata": {},
   "outputs": [
    {
     "data": {
      "image/png": "[encoded data removed]",
      "text/plain": [
       "<Figure size 432x288 with 1 Axes>"
      ]
     },
     "metadata": {
      "needs_background": "light"
     },
     "output_type": "display_data"
    }
   ],
   "source": [
    "fig, ax = plt.subplots()\n",
    "ax.plot(x_lin,y_lin)\n",
    "ax.set_xscale('log')\n",
    "plt.show()\n"
   ]
  },
  {
   "cell_type": "code",
   "execution_count": 64,
   "metadata": {},
   "outputs": [],
   "source": [
    "class Quaternion:\n",
    "    _ecoef = 0\n",
    "    _icoef = 0\n",
    "    _jcoef = 0\n",
    "    _kcoef = 0\n",
    "    \n",
    "    def __init__(self, ecoef, icoef, jcoef, kcoef):\n",
    "        self._ecoef = ecoef\n",
    "        self._icoef = icoef\n",
    "        self._jcoef = jcoef\n",
    "        self._kcoef = kcoef\n",
    "        \n",
    "    def con(self):\n",
    "        return Quaternion(self._ecoef, -self._icoef, -self._jcoef, -self._kcoef)\n",
    "    \n",
    "    def norm(self):\n",
    "        return math.sqrt(self._ecoef*self._ecoef+self._icoef*self._icoef+self._jcoef*self._jcoef+self._kcoef*self._kcoef)\n",
    "    \n",
    "    def __str__(self):\n",
    "        return '{0}e {1}i {2}j {3}k' .format(self._ecoef, self._icoef, self._jcoef, self._kcoef)\n",
    "    \n",
    "    def __add__(self, quaterion1):\n",
    "        return Quaternion(self._ecoef + quaterion1._ecoef, self._icoef + quaterion1._icoef, self._jcoef + quaterion1._jcoef, self._kcoef + quaterion1._kcoef)\n",
    "    \n",
    "    def __sub__(self, quaterion1):\n",
    "        return Quaternion(self._ecoef - quaterion1._ecoef, self._icoef - quaterion1._icoef, self._jcoef - quaterion1._jcoef, self._kcoef - quaterion1._kcoef)\n",
    "    \n",
    "    def __mul__(self, quaterion1):\n",
    "        return Quaternion( self._ecoef*quaterion1._ecoef - self._icoef*quaterion1._icoef - self._jcoef*quaterion1._jcoef - self._kcoef*quaterion1._kcoef,\n",
    "                           self._icoef*quaterion1._ecoef + self._ecoef*quaterion1._icoef + self._jcoef*quaterion1._kcoef - self._kcoef*quaterion1._jcoef,\n",
    "                           self._ecoef*quaterion1._jcoef - self._icoef*quaterion1._kcoef + self._jcoef*quaterion1._ecoef + self._kcoef*quaterion1._icoef,\n",
    "                           self._ecoef*quaterion1._kcoef + self._icoef*quaterion1._jcoef - self._jcoef*quaterion1._icoef + self._kcoef*quaterion1._ecoef )\n",
    "    \n",
    "    def __truediv__(self, quaterion1):\n",
    "        temp = self*quaterion1.con()\n",
    "        temp1 = quaterion1.norm()*quaterion1.norm()\n",
    "        temp._ecoef = temp._ecoef/temp1\n",
    "        temp._icoef = temp._icoef/temp1\n",
    "        temp._jcoef = temp._jcoef/temp1\n",
    "        temp._kcoef = temp._kcoef/temp1\n",
    "        return temp"
   ]
  },
  {
   "cell_type": "code",
   "execution_count": 65,
   "metadata": {},
   "outputs": [
    {
     "name": "stdout",
     "output_type": "stream",
     "text": [
      "1e 2i 3j 6k\n",
      "3e 5i 0j 7k\n",
      "9.1104335791443\n",
      "3e -5i 0j -7k\n",
      "4e 7i 3j 13k\n",
      "-2e -3i 3j -1k\n",
      "-49e 32i 25j 10k\n",
      "0.6626506024096386e -0.24096385542168675i -0.08433734939759036j 0.3132530120481928k\n"
     ]
    }
   ],
   "source": [
    "q1 = Quaternion(1, 2, 3, 6)\n",
    "q2 = Quaternion(3,5,0,7)\n",
    "print(q1)\n",
    "print(q2)\n",
    "print(q2.norm())\n",
    "print(q2.con())\n",
    "print(q1+q2)\n",
    "print(q1-q2)\n",
    "print(q1*q2)\n",
    "print(q1/q2)"
   ]
  },
  {
   "cell_type": "code",
   "execution_count": null,
   "metadata": {},
   "outputs": [],
   "source": []
  }
 ],
 "metadata": {
  "kernelspec": {
   "display_name": "Python 3",
   "language": "python",
   "name": "python3"
  },
  "language_info": {
   "codemirror_mode": {
    "name": "ipython",
    "version": 3
   },
   "file_extension": ".py",
   "mimetype": "text/x-python",
   "name": "python",
   "nbconvert_exporter": "python",
   "pygments_lexer": "ipython3",
   "version": "3.7.6"
  }
 },
 "nbformat": 4,
 "nbformat_minor": 4
}
